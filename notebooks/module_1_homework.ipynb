{
 "cells": [
  {
   "cell_type": "markdown",
   "source": [
    "# Домашнее задание на проверку знаний библиотеки для анализа данных Pandas.\n",
    "\n",
    "Вам представлен датасет, который содержит информацию по результатам сезона 2016 года игры в бейсбол.\n",
    "\n",
    "Вам необходимо загрузить датасет (он находится в архиве с текущим домашним заданием). Провести его очистку, если это необходимо и ответить на поставленные аналитические\n",
    "вопросы.\n",
    "\n",
    "Список колонок, представленных в датасете:\n",
    "\n",
    "---\n",
    "* attendance        - количество зрителей матча\n",
    "* away_team         - название гостевой команды\n",
    "* away_team_errors  - количество ошибок гостевой команды\n",
    "* away_team_hits    - количество хитов гостевой команды (хит в бейсболе - удар при котором отбивающий достиг первой базы)\n",
    "* away_team_runs    - количество ранов гостевой команды (ран в бейсболе - очко заработанное игроком нападения)\n",
    "* date              - дата проведения матча\n",
    "* field_type        - тип игрового поля\n",
    "* game_type         - тип игры\n",
    "* home_team         - название домашней команды\n",
    "* home_team_errors  - количество ошибок домашней команды\n",
    "* home_team_hits    - количество хитов домашней команды (хит в бейсболе - удар при котором отбивающий достиг первой базы)\n",
    "* home_team_runs    - количество ранов домашней команды (ран в бейсболе - очко заработанное игроком нападения)\n",
    "* start_time        - время начала игрового матча\n",
    "* venue             - название места проведения матча (стадион, поле, арена)\n",
    "* day_of_week       - день недели проведения матча\n",
    "* temperature       - температура воздуха в день проведения матча в фаренгейтах\n",
    "* wind_speed        - скорость ветра в день проведения матча\n",
    "* wind_direction    - направление скорости ветра\n",
    "* sky               - облачность\n",
    "* total_runs        - общее количество ранов для двух команд\n",
    "* game_hours_dec    - длительность матча указаная в часах\n",
    "* season            - тип игрового сезона\n",
    "* home_team_win     - результат домашней команды (1 - выигрыш)\n",
    "* home_team_loss    - результат домашней команды (0 - проигрыш)\n",
    "* home_team_outcome - исход матча\n",
    "---\n",
    "\n",
    "Всего в задании 20 вопросов. За каждый правильный вопрос начисляется 5 баллов. Таким образом за все правильные ответы вы получите - 100 баллов. Оценка затем будет приведена к 10-ти бальной шкале.\n",
    "\n",
    "---\n",
    "\n",
    "**Кроме того, баллы могут быть снижены за**:\n",
    "\n",
    "- 1 балл снижается за качество кода - старайтесь чтобы код был максимально лаконичным. Названия переменных (если они используются) должны отражать максимальную ее сущность. Вывод старайтесь делать минимальным, так как первичная цель - сделать качественный анализ, чтобы быстро ответить на поставленный вопрос (никаких таблиц на 100 строк).\n",
    "\n",
    "\n",
    "- 5 баллов снижается если ответ на домашнюю работу будет прислан в виде скриншота, ноутбука, текстового файла и прочих способов. Используйте при отправке на проверку только GitHub/GitLab либо прочий сервис. Присылать домашнюю работу необходимо ссылкой на ваш репозиторий на адрес электронной почты maratmovlamov2017@gmail.com\n",
    "\n",
    "\n",
    "- за каждый день просрочки дедлайна снижается по 10 баллов. Один день - минус 10 баллов, второй день минус 10 баллов, третий день минус 10 баллов. Соблюдайте сроки и не приступайте к домашнему заданию в последний момент.\n",
    "\n",
    "---\n",
    "\n",
    "Удачи вам в поисках истинны :)"
   ],
   "metadata": {
    "collapsed": false,
    "pycharm": {
     "name": "#%% md\n"
    }
   }
  },
  {
   "cell_type": "code",
   "execution_count": 6,
   "outputs": [],
   "source": [
    "# Импортируйте все необходимые библиотеки и модули которые вам необходимы\n",
    "import numpy as np\n",
    "import pandas as pd\n",
    "import os"
   ],
   "metadata": {
    "collapsed": false,
    "pycharm": {
     "name": "#%%\n"
    }
   }
  },
  {
   "cell_type": "code",
   "execution_count": 7,
   "outputs": [
    {
     "name": "stdout",
     "output_type": "stream",
     "text": [
      "<class 'pandas.core.frame.DataFrame'>\n",
      "RangeIndex: 2428 entries, 0 to 2427\n",
      "Data columns (total 25 columns):\n",
      " #   Column             Non-Null Count  Dtype  \n",
      "---  ------             --------------  -----  \n",
      " 0   attendance         2425 non-null   float64\n",
      " 1   away_team          2428 non-null   object \n",
      " 2   away_team_errors   2428 non-null   int64  \n",
      " 3   away_team_hits     2428 non-null   int64  \n",
      " 4   away_team_runs     2428 non-null   int64  \n",
      " 5   date               2428 non-null   object \n",
      " 6   field_type         2428 non-null   object \n",
      " 7   game_type          2428 non-null   object \n",
      " 8   home_team          2428 non-null   object \n",
      " 9   home_team_errors   2428 non-null   int64  \n",
      " 10  home_team_hits     2428 non-null   int64  \n",
      " 11  home_team_runs     2428 non-null   int64  \n",
      " 12  start_time         2428 non-null   object \n",
      " 13  venue              2428 non-null   object \n",
      " 14  day_of_week        2428 non-null   object \n",
      " 15  temperature        2428 non-null   float64\n",
      " 16  wind_speed         2428 non-null   float64\n",
      " 17  wind_direction     2428 non-null   object \n",
      " 18  sky                2428 non-null   object \n",
      " 19  total_runs         2428 non-null   int64  \n",
      " 20  game_hours_dec     2428 non-null   float64\n",
      " 21  season             2428 non-null   object \n",
      " 22  home_team_win      2428 non-null   int64  \n",
      " 23  home_team_loss     2428 non-null   int64  \n",
      " 24  home_team_outcome  2428 non-null   object \n",
      "dtypes: float64(4), int64(9), object(12)\n",
      "memory usage: 474.3+ KB\n"
     ]
    }
   ],
   "source": [
    "# Загрузите датасет и проведите его очистку и форматирование если это необходимо\n",
    "data = pd.read_csv('C:/Users/busta/PycharmProjects/homewor1/data/baseball_games.csv')\n",
    "reg_season_mask = (data.season =='regular season')\n",
    "rs_data = data.loc[reg_season_mask]\n",
    "rs_data.reset_index(inplace=True)\n",
    "del rs_data['Unnamed: 0']\n",
    "del rs_data['index']\n",
    "rs_data.info()\n"
   ],
   "metadata": {
    "collapsed": false,
    "pycharm": {
     "name": "#%%\n"
    }
   }
  },
  {
   "cell_type": "markdown",
   "source": [
    "# 1. На какую игру пришло максимальное количество зрителей за весь сезон игр?"
   ],
   "metadata": {
    "collapsed": false,
    "pycharm": {
     "name": "#%% md\n"
    }
   }
  },
  {
   "cell_type": "code",
   "execution_count": 9,
   "outputs": [
    {
     "data": {
      "text/plain": "     attendance             away_team  away_team_errors  away_team_hits  \\\n499     53621.0  San Francisco Giants                 1              11   \n\n     away_team_runs        date field_type   game_type            home_team  \\\n499               2  2016-09-20   on grass  Night Game  Los Angeles Dodgers   \n\n     home_team_errors  ...  temperature  wind_speed      wind_direction  \\\n499                 0  ...         77.0         6.0   out to Rightfield   \n\n        sky total_runs  game_hours_dec          season home_team_win  \\\n499  Cloudy          2             3.6  regular season             0   \n\n    home_team_loss  home_team_outcome  \n499              1               Loss  \n\n[1 rows x 25 columns]",
      "text/html": "<div>\n<style scoped>\n    .dataframe tbody tr th:only-of-type {\n        vertical-align: middle;\n    }\n\n    .dataframe tbody tr th {\n        vertical-align: top;\n    }\n\n    .dataframe thead th {\n        text-align: right;\n    }\n</style>\n<table border=\"1\" class=\"dataframe\">\n  <thead>\n    <tr style=\"text-align: right;\">\n      <th></th>\n      <th>attendance</th>\n      <th>away_team</th>\n      <th>away_team_errors</th>\n      <th>away_team_hits</th>\n      <th>away_team_runs</th>\n      <th>date</th>\n      <th>field_type</th>\n      <th>game_type</th>\n      <th>home_team</th>\n      <th>home_team_errors</th>\n      <th>...</th>\n      <th>temperature</th>\n      <th>wind_speed</th>\n      <th>wind_direction</th>\n      <th>sky</th>\n      <th>total_runs</th>\n      <th>game_hours_dec</th>\n      <th>season</th>\n      <th>home_team_win</th>\n      <th>home_team_loss</th>\n      <th>home_team_outcome</th>\n    </tr>\n  </thead>\n  <tbody>\n    <tr>\n      <th>499</th>\n      <td>53621.0</td>\n      <td>San Francisco Giants</td>\n      <td>1</td>\n      <td>11</td>\n      <td>2</td>\n      <td>2016-09-20</td>\n      <td>on grass</td>\n      <td>Night Game</td>\n      <td>Los Angeles Dodgers</td>\n      <td>0</td>\n      <td>...</td>\n      <td>77.0</td>\n      <td>6.0</td>\n      <td>out to Rightfield</td>\n      <td>Cloudy</td>\n      <td>2</td>\n      <td>3.6</td>\n      <td>regular season</td>\n      <td>0</td>\n      <td>1</td>\n      <td>Loss</td>\n    </tr>\n  </tbody>\n</table>\n<p>1 rows × 25 columns</p>\n</div>"
     },
     "execution_count": 9,
     "metadata": {},
     "output_type": "execute_result"
    }
   ],
   "source": [
    "max_attendance_mask = (rs_data.attendance == rs_data.attendance.max())\n",
    "rs_data.loc[max_attendance_mask]\n"
   ],
   "metadata": {
    "collapsed": false,
    "pycharm": {
     "name": "#%%\n"
    }
   }
  },
  {
   "cell_type": "markdown",
   "source": [
    "# 2. Какая игра была самая холодная (temperature) за весь сезон?"
   ],
   "metadata": {
    "collapsed": false,
    "pycharm": {
     "name": "#%% md\n"
    }
   }
  },
  {
   "cell_type": "code",
   "execution_count": 10,
   "outputs": [
    {
     "data": {
      "text/plain": "      attendance         away_team  away_team_errors  away_team_hits  \\\n2374     32419.0  New York Yankees                 1              13   \n\n      away_team_runs        date field_type game_type       home_team  \\\n2374               8  2016-04-09   on grass  Day Game  Detroit Tigers   \n\n      home_team_errors  ...  temperature  wind_speed       wind_direction  \\\n2374                 1  ...         31.0        18.0   from Left to Right   \n\n         sky total_runs  game_hours_dec          season home_team_win  \\\n2374  Cloudy         12        3.333333  regular season             0   \n\n     home_team_loss  home_team_outcome  \n2374              1               Loss  \n\n[1 rows x 25 columns]",
      "text/html": "<div>\n<style scoped>\n    .dataframe tbody tr th:only-of-type {\n        vertical-align: middle;\n    }\n\n    .dataframe tbody tr th {\n        vertical-align: top;\n    }\n\n    .dataframe thead th {\n        text-align: right;\n    }\n</style>\n<table border=\"1\" class=\"dataframe\">\n  <thead>\n    <tr style=\"text-align: right;\">\n      <th></th>\n      <th>attendance</th>\n      <th>away_team</th>\n      <th>away_team_errors</th>\n      <th>away_team_hits</th>\n      <th>away_team_runs</th>\n      <th>date</th>\n      <th>field_type</th>\n      <th>game_type</th>\n      <th>home_team</th>\n      <th>home_team_errors</th>\n      <th>...</th>\n      <th>temperature</th>\n      <th>wind_speed</th>\n      <th>wind_direction</th>\n      <th>sky</th>\n      <th>total_runs</th>\n      <th>game_hours_dec</th>\n      <th>season</th>\n      <th>home_team_win</th>\n      <th>home_team_loss</th>\n      <th>home_team_outcome</th>\n    </tr>\n  </thead>\n  <tbody>\n    <tr>\n      <th>2374</th>\n      <td>32419.0</td>\n      <td>New York Yankees</td>\n      <td>1</td>\n      <td>13</td>\n      <td>8</td>\n      <td>2016-04-09</td>\n      <td>on grass</td>\n      <td>Day Game</td>\n      <td>Detroit Tigers</td>\n      <td>1</td>\n      <td>...</td>\n      <td>31.0</td>\n      <td>18.0</td>\n      <td>from Left to Right</td>\n      <td>Cloudy</td>\n      <td>12</td>\n      <td>3.333333</td>\n      <td>regular season</td>\n      <td>0</td>\n      <td>1</td>\n      <td>Loss</td>\n    </tr>\n  </tbody>\n</table>\n<p>1 rows × 25 columns</p>\n</div>"
     },
     "execution_count": 10,
     "metadata": {},
     "output_type": "execute_result"
    }
   ],
   "source": [
    "min_temperature_mask = (rs_data.temperature == rs_data.temperature.min())\n",
    "rs_data.loc[min_temperature_mask]\n"
   ],
   "metadata": {
    "collapsed": false,
    "pycharm": {
     "name": "#%%\n"
    }
   }
  },
  {
   "cell_type": "markdown",
   "source": [
    "# 3. Какая игра была самая теплая за весь сезон?"
   ],
   "metadata": {
    "collapsed": false,
    "pycharm": {
     "name": "#%% md\n"
    }
   }
  },
  {
   "cell_type": "code",
   "execution_count": 11,
   "outputs": [
    {
     "data": {
      "text/plain": "      attendance             away_team  away_team_errors  away_team_hits  \\\n1991     21753.0  San Francisco Giants                 0               8   \n\n      away_team_runs        date field_type   game_type             home_team  \\\n1991               3  2016-05-13   on grass  Night Game  Arizona Diamondbacks   \n\n      home_team_errors  ...  temperature  wind_speed         wind_direction  \\\n1991                 0  ...        101.0         9.0   in unknown direction   \n\n        sky total_runs  game_hours_dec          season home_team_win  \\\n1991  Sunny          4             3.0  regular season             0   \n\n     home_team_loss  home_team_outcome  \n1991              1               Loss  \n\n[1 rows x 25 columns]",
      "text/html": "<div>\n<style scoped>\n    .dataframe tbody tr th:only-of-type {\n        vertical-align: middle;\n    }\n\n    .dataframe tbody tr th {\n        vertical-align: top;\n    }\n\n    .dataframe thead th {\n        text-align: right;\n    }\n</style>\n<table border=\"1\" class=\"dataframe\">\n  <thead>\n    <tr style=\"text-align: right;\">\n      <th></th>\n      <th>attendance</th>\n      <th>away_team</th>\n      <th>away_team_errors</th>\n      <th>away_team_hits</th>\n      <th>away_team_runs</th>\n      <th>date</th>\n      <th>field_type</th>\n      <th>game_type</th>\n      <th>home_team</th>\n      <th>home_team_errors</th>\n      <th>...</th>\n      <th>temperature</th>\n      <th>wind_speed</th>\n      <th>wind_direction</th>\n      <th>sky</th>\n      <th>total_runs</th>\n      <th>game_hours_dec</th>\n      <th>season</th>\n      <th>home_team_win</th>\n      <th>home_team_loss</th>\n      <th>home_team_outcome</th>\n    </tr>\n  </thead>\n  <tbody>\n    <tr>\n      <th>1991</th>\n      <td>21753.0</td>\n      <td>San Francisco Giants</td>\n      <td>0</td>\n      <td>8</td>\n      <td>3</td>\n      <td>2016-05-13</td>\n      <td>on grass</td>\n      <td>Night Game</td>\n      <td>Arizona Diamondbacks</td>\n      <td>0</td>\n      <td>...</td>\n      <td>101.0</td>\n      <td>9.0</td>\n      <td>in unknown direction</td>\n      <td>Sunny</td>\n      <td>4</td>\n      <td>3.0</td>\n      <td>regular season</td>\n      <td>0</td>\n      <td>1</td>\n      <td>Loss</td>\n    </tr>\n  </tbody>\n</table>\n<p>1 rows × 25 columns</p>\n</div>"
     },
     "execution_count": 11,
     "metadata": {},
     "output_type": "execute_result"
    }
   ],
   "source": [
    "max_temperature_mask = (rs_data.temperature == rs_data.temperature.max())\n",
    "rs_data.loc[max_temperature_mask]\n"
   ],
   "metadata": {
    "collapsed": false,
    "pycharm": {
     "name": "#%%\n"
    }
   }
  },
  {
   "cell_type": "markdown",
   "source": [
    "# 4. Какая игра в сезоне была самая долгая по продолжительности матча?"
   ],
   "metadata": {
    "collapsed": false,
    "pycharm": {
     "name": "#%% md\n"
    }
   }
  },
  {
   "cell_type": "code",
   "execution_count": 12,
   "outputs": [
    {
     "data": {
      "text/plain": "      attendance          away_team  away_team_errors  away_team_hits  \\\n1410     45825.0  Cleveland Indians                 0              15   \n\n      away_team_runs        date field_type game_type          home_team  \\\n1410               2  2016-07-01    on turf  Day Game  Toronto Blue Jays   \n\n      home_team_errors  ...  temperature  wind_speed         wind_direction  \\\n1410                 2  ...         68.0         0.0   in unknown direction   \n\n          sky total_runs  game_hours_dec          season home_team_win  \\\n1410  In Dome          3        6.216667  regular season             0   \n\n     home_team_loss  home_team_outcome  \n1410              1               Loss  \n\n[1 rows x 25 columns]",
      "text/html": "<div>\n<style scoped>\n    .dataframe tbody tr th:only-of-type {\n        vertical-align: middle;\n    }\n\n    .dataframe tbody tr th {\n        vertical-align: top;\n    }\n\n    .dataframe thead th {\n        text-align: right;\n    }\n</style>\n<table border=\"1\" class=\"dataframe\">\n  <thead>\n    <tr style=\"text-align: right;\">\n      <th></th>\n      <th>attendance</th>\n      <th>away_team</th>\n      <th>away_team_errors</th>\n      <th>away_team_hits</th>\n      <th>away_team_runs</th>\n      <th>date</th>\n      <th>field_type</th>\n      <th>game_type</th>\n      <th>home_team</th>\n      <th>home_team_errors</th>\n      <th>...</th>\n      <th>temperature</th>\n      <th>wind_speed</th>\n      <th>wind_direction</th>\n      <th>sky</th>\n      <th>total_runs</th>\n      <th>game_hours_dec</th>\n      <th>season</th>\n      <th>home_team_win</th>\n      <th>home_team_loss</th>\n      <th>home_team_outcome</th>\n    </tr>\n  </thead>\n  <tbody>\n    <tr>\n      <th>1410</th>\n      <td>45825.0</td>\n      <td>Cleveland Indians</td>\n      <td>0</td>\n      <td>15</td>\n      <td>2</td>\n      <td>2016-07-01</td>\n      <td>on turf</td>\n      <td>Day Game</td>\n      <td>Toronto Blue Jays</td>\n      <td>2</td>\n      <td>...</td>\n      <td>68.0</td>\n      <td>0.0</td>\n      <td>in unknown direction</td>\n      <td>In Dome</td>\n      <td>3</td>\n      <td>6.216667</td>\n      <td>regular season</td>\n      <td>0</td>\n      <td>1</td>\n      <td>Loss</td>\n    </tr>\n  </tbody>\n</table>\n<p>1 rows × 25 columns</p>\n</div>"
     },
     "execution_count": 12,
     "metadata": {},
     "output_type": "execute_result"
    }
   ],
   "source": [
    "long_game_mask = (rs_data.game_hours_dec == rs_data.game_hours_dec.max())\n",
    "rs_data.loc[long_game_mask]\n"
   ],
   "metadata": {
    "collapsed": false,
    "pycharm": {
     "name": "#%%\n"
    }
   }
  },
  {
   "cell_type": "markdown",
   "source": [
    "# 5. Какая игра в сезоне была самая короткая по продолжительности матча?"
   ],
   "metadata": {
    "collapsed": false,
    "pycharm": {
     "name": "#%% md\n"
    }
   }
  },
  {
   "cell_type": "code",
   "execution_count": 13,
   "outputs": [
    {
     "data": {
      "text/plain": "     attendance     away_team  away_team_errors  away_team_hits  \\\n388     19991.0  Chicago Cubs                 1               4   \n\n     away_team_runs        date field_type   game_type           home_team  \\\n388               1  2016-09-29   on grass  Night Game  Pittsburgh Pirates   \n\n     home_team_errors  ...  temperature  wind_speed      wind_direction  \\\n388                 0  ...         63.0        12.0   in from Leftfield   \n\n          sky total_runs  game_hours_dec          season home_team_win  \\\n388  Overcast          2            1.25  regular season             0   \n\n    home_team_loss  home_team_outcome  \n388              0               Loss  \n\n[1 rows x 25 columns]",
      "text/html": "<div>\n<style scoped>\n    .dataframe tbody tr th:only-of-type {\n        vertical-align: middle;\n    }\n\n    .dataframe tbody tr th {\n        vertical-align: top;\n    }\n\n    .dataframe thead th {\n        text-align: right;\n    }\n</style>\n<table border=\"1\" class=\"dataframe\">\n  <thead>\n    <tr style=\"text-align: right;\">\n      <th></th>\n      <th>attendance</th>\n      <th>away_team</th>\n      <th>away_team_errors</th>\n      <th>away_team_hits</th>\n      <th>away_team_runs</th>\n      <th>date</th>\n      <th>field_type</th>\n      <th>game_type</th>\n      <th>home_team</th>\n      <th>home_team_errors</th>\n      <th>...</th>\n      <th>temperature</th>\n      <th>wind_speed</th>\n      <th>wind_direction</th>\n      <th>sky</th>\n      <th>total_runs</th>\n      <th>game_hours_dec</th>\n      <th>season</th>\n      <th>home_team_win</th>\n      <th>home_team_loss</th>\n      <th>home_team_outcome</th>\n    </tr>\n  </thead>\n  <tbody>\n    <tr>\n      <th>388</th>\n      <td>19991.0</td>\n      <td>Chicago Cubs</td>\n      <td>1</td>\n      <td>4</td>\n      <td>1</td>\n      <td>2016-09-29</td>\n      <td>on grass</td>\n      <td>Night Game</td>\n      <td>Pittsburgh Pirates</td>\n      <td>0</td>\n      <td>...</td>\n      <td>63.0</td>\n      <td>12.0</td>\n      <td>in from Leftfield</td>\n      <td>Overcast</td>\n      <td>2</td>\n      <td>1.25</td>\n      <td>regular season</td>\n      <td>0</td>\n      <td>0</td>\n      <td>Loss</td>\n    </tr>\n  </tbody>\n</table>\n<p>1 rows × 25 columns</p>\n</div>"
     },
     "execution_count": 13,
     "metadata": {},
     "output_type": "execute_result"
    }
   ],
   "source": [
    "short_game_mask = (rs_data.game_hours_dec == rs_data.game_hours_dec.min())\n",
    "short_game_data = rs_data.loc[short_game_mask]\n",
    "short_game_data\n"
   ],
   "metadata": {
    "collapsed": false,
    "pycharm": {
     "name": "#%%\n"
    }
   }
  },
  {
   "cell_type": "markdown",
   "source": [
    "# 6. Сколько матчей в сезоне закончилось ничьей?"
   ],
   "metadata": {
    "collapsed": false,
    "pycharm": {
     "name": "#%% md\n"
    }
   }
  },
  {
   "cell_type": "code",
   "execution_count": 14,
   "outputs": [
    {
     "data": {
      "text/plain": "     attendance     away_team  away_team_errors  away_team_hits  \\\n388     19991.0  Chicago Cubs                 1               4   \n\n     away_team_runs        date field_type   game_type           home_team  \\\n388               1  2016-09-29   on grass  Night Game  Pittsburgh Pirates   \n\n     home_team_errors  ...  temperature  wind_speed      wind_direction  \\\n388                 0  ...         63.0        12.0   in from Leftfield   \n\n          sky total_runs  game_hours_dec          season home_team_win  \\\n388  Overcast          2            1.25  regular season             0   \n\n    home_team_loss  home_team_outcome  \n388              0               Loss  \n\n[1 rows x 25 columns]",
      "text/html": "<div>\n<style scoped>\n    .dataframe tbody tr th:only-of-type {\n        vertical-align: middle;\n    }\n\n    .dataframe tbody tr th {\n        vertical-align: top;\n    }\n\n    .dataframe thead th {\n        text-align: right;\n    }\n</style>\n<table border=\"1\" class=\"dataframe\">\n  <thead>\n    <tr style=\"text-align: right;\">\n      <th></th>\n      <th>attendance</th>\n      <th>away_team</th>\n      <th>away_team_errors</th>\n      <th>away_team_hits</th>\n      <th>away_team_runs</th>\n      <th>date</th>\n      <th>field_type</th>\n      <th>game_type</th>\n      <th>home_team</th>\n      <th>home_team_errors</th>\n      <th>...</th>\n      <th>temperature</th>\n      <th>wind_speed</th>\n      <th>wind_direction</th>\n      <th>sky</th>\n      <th>total_runs</th>\n      <th>game_hours_dec</th>\n      <th>season</th>\n      <th>home_team_win</th>\n      <th>home_team_loss</th>\n      <th>home_team_outcome</th>\n    </tr>\n  </thead>\n  <tbody>\n    <tr>\n      <th>388</th>\n      <td>19991.0</td>\n      <td>Chicago Cubs</td>\n      <td>1</td>\n      <td>4</td>\n      <td>1</td>\n      <td>2016-09-29</td>\n      <td>on grass</td>\n      <td>Night Game</td>\n      <td>Pittsburgh Pirates</td>\n      <td>0</td>\n      <td>...</td>\n      <td>63.0</td>\n      <td>12.0</td>\n      <td>in from Leftfield</td>\n      <td>Overcast</td>\n      <td>2</td>\n      <td>1.25</td>\n      <td>regular season</td>\n      <td>0</td>\n      <td>0</td>\n      <td>Loss</td>\n    </tr>\n  </tbody>\n</table>\n<p>1 rows × 25 columns</p>\n</div>"
     },
     "execution_count": 14,
     "metadata": {},
     "output_type": "execute_result"
    }
   ],
   "source": [
    "draw_game_mask = (rs_data.home_team_win == rs_data.home_team_loss)\n",
    "draw_game_rs_data = rs_data.loc[draw_game_mask]\n",
    "draw_game_rs_data"
   ],
   "metadata": {
    "collapsed": false,
    "pycharm": {
     "name": "#%%\n"
    }
   }
  },
  {
   "cell_type": "markdown",
   "source": [
    "# 7. Какая игра была последней в сезоне?"
   ],
   "metadata": {
    "collapsed": false,
    "pycharm": {
     "name": "#%% md\n"
    }
   }
  },
  {
   "cell_type": "code",
   "execution_count": 15,
   "outputs": [
    {
     "data": {
      "text/plain": "     attendance          away_team  away_team_errors  away_team_hits  \\\n360     36787.0  Toronto Blue Jays                 0               9   \n\n     away_team_runs        date field_type game_type       home_team  \\\n360               2  2016-10-02   on grass  Day Game  Boston Red Sox   \n\n     home_team_errors  ...  temperature  wind_speed     wind_direction  \\\n360                 1  ...         56.0         6.0   out to Leftfield   \n\n         sky total_runs  game_hours_dec          season home_team_win  \\\n360  Unknown          3        3.233333  regular season             0   \n\n    home_team_loss  home_team_outcome  \n360              1               Loss  \n\n[1 rows x 25 columns]",
      "text/html": "<div>\n<style scoped>\n    .dataframe tbody tr th:only-of-type {\n        vertical-align: middle;\n    }\n\n    .dataframe tbody tr th {\n        vertical-align: top;\n    }\n\n    .dataframe thead th {\n        text-align: right;\n    }\n</style>\n<table border=\"1\" class=\"dataframe\">\n  <thead>\n    <tr style=\"text-align: right;\">\n      <th></th>\n      <th>attendance</th>\n      <th>away_team</th>\n      <th>away_team_errors</th>\n      <th>away_team_hits</th>\n      <th>away_team_runs</th>\n      <th>date</th>\n      <th>field_type</th>\n      <th>game_type</th>\n      <th>home_team</th>\n      <th>home_team_errors</th>\n      <th>...</th>\n      <th>temperature</th>\n      <th>wind_speed</th>\n      <th>wind_direction</th>\n      <th>sky</th>\n      <th>total_runs</th>\n      <th>game_hours_dec</th>\n      <th>season</th>\n      <th>home_team_win</th>\n      <th>home_team_loss</th>\n      <th>home_team_outcome</th>\n    </tr>\n  </thead>\n  <tbody>\n    <tr>\n      <th>360</th>\n      <td>36787.0</td>\n      <td>Toronto Blue Jays</td>\n      <td>0</td>\n      <td>9</td>\n      <td>2</td>\n      <td>2016-10-02</td>\n      <td>on grass</td>\n      <td>Day Game</td>\n      <td>Boston Red Sox</td>\n      <td>1</td>\n      <td>...</td>\n      <td>56.0</td>\n      <td>6.0</td>\n      <td>out to Leftfield</td>\n      <td>Unknown</td>\n      <td>3</td>\n      <td>3.233333</td>\n      <td>regular season</td>\n      <td>0</td>\n      <td>1</td>\n      <td>Loss</td>\n    </tr>\n  </tbody>\n</table>\n<p>1 rows × 25 columns</p>\n</div>"
     },
     "execution_count": 15,
     "metadata": {},
     "output_type": "execute_result"
    }
   ],
   "source": [
    "last_day_mask = (rs_data.date == rs_data.date.max())\n",
    "last_day_data = rs_data.loc[last_day_mask]\n",
    "late_time_mask = (last_day_data.start_time == last_day_data.start_time.max())\n",
    "late_time_data = last_day_data.loc[late_time_mask]\n",
    "late_time_data\n",
    "#last_day_data"
   ],
   "metadata": {
    "collapsed": false,
    "pycharm": {
     "name": "#%%\n"
    }
   }
  },
  {
   "cell_type": "markdown",
   "source": [
    "# 8. У какой игры было минимальное количество зрителей?"
   ],
   "metadata": {
    "collapsed": false,
    "pycharm": {
     "name": "#%% md\n"
    }
   }
  },
  {
   "cell_type": "code",
   "execution_count": 16,
   "outputs": [
    {
     "data": {
      "text/plain": "      attendance       away_team  away_team_errors  away_team_hits  \\\n2095      8766.0  Detroit Tigers                 0               5   \n\n      away_team_runs        date field_type   game_type          home_team  \\\n2095               0  2016-05-04   on grass  Night Game  Cleveland Indians   \n\n      home_team_errors  ...  temperature  wind_speed       wind_direction  \\\n2095                 0  ...         54.0        11.0   from Left to Right   \n\n           sky total_runs  game_hours_dec          season home_team_win  \\\n2095  Overcast          4        2.316667  regular season             1   \n\n     home_team_loss  home_team_outcome  \n2095              0                Win  \n\n[1 rows x 25 columns]",
      "text/html": "<div>\n<style scoped>\n    .dataframe tbody tr th:only-of-type {\n        vertical-align: middle;\n    }\n\n    .dataframe tbody tr th {\n        vertical-align: top;\n    }\n\n    .dataframe thead th {\n        text-align: right;\n    }\n</style>\n<table border=\"1\" class=\"dataframe\">\n  <thead>\n    <tr style=\"text-align: right;\">\n      <th></th>\n      <th>attendance</th>\n      <th>away_team</th>\n      <th>away_team_errors</th>\n      <th>away_team_hits</th>\n      <th>away_team_runs</th>\n      <th>date</th>\n      <th>field_type</th>\n      <th>game_type</th>\n      <th>home_team</th>\n      <th>home_team_errors</th>\n      <th>...</th>\n      <th>temperature</th>\n      <th>wind_speed</th>\n      <th>wind_direction</th>\n      <th>sky</th>\n      <th>total_runs</th>\n      <th>game_hours_dec</th>\n      <th>season</th>\n      <th>home_team_win</th>\n      <th>home_team_loss</th>\n      <th>home_team_outcome</th>\n    </tr>\n  </thead>\n  <tbody>\n    <tr>\n      <th>2095</th>\n      <td>8766.0</td>\n      <td>Detroit Tigers</td>\n      <td>0</td>\n      <td>5</td>\n      <td>0</td>\n      <td>2016-05-04</td>\n      <td>on grass</td>\n      <td>Night Game</td>\n      <td>Cleveland Indians</td>\n      <td>0</td>\n      <td>...</td>\n      <td>54.0</td>\n      <td>11.0</td>\n      <td>from Left to Right</td>\n      <td>Overcast</td>\n      <td>4</td>\n      <td>2.316667</td>\n      <td>regular season</td>\n      <td>1</td>\n      <td>0</td>\n      <td>Win</td>\n    </tr>\n  </tbody>\n</table>\n<p>1 rows × 25 columns</p>\n</div>"
     },
     "execution_count": 16,
     "metadata": {},
     "output_type": "execute_result"
    }
   ],
   "source": [
    "min_attendance_mask = (rs_data.attendance == rs_data.attendance.min())\n",
    "min_attend = rs_data.loc[min_attendance_mask]\n",
    "min_attend"
   ],
   "metadata": {
    "collapsed": false,
    "pycharm": {
     "name": "#%%\n"
    }
   }
  },
  {
   "cell_type": "markdown",
   "source": [
    "# 9. Какая игра в сезоне была самая ветренная?"
   ],
   "metadata": {
    "collapsed": false,
    "pycharm": {
     "name": "#%% md\n"
    }
   }
  },
  {
   "cell_type": "code",
   "execution_count": 17,
   "outputs": [
    {
     "data": {
      "text/plain": "      attendance          away_team  away_team_errors  away_team_hits  \\\n1620     41543.0  Milwaukee Brewers                 1              11   \n1970     35736.0     Houston Astros                 2               8   \n\n      away_team_runs        date field_type   game_type             home_team  \\\n1620               5  2016-06-13   on grass  Night Game  San Francisco Giants   \n1970               9  2016-05-15   on grass    Day Game        Boston Red Sox   \n\n      home_team_errors  ...  temperature  wind_speed       wind_direction  \\\n1620                 0  ...         58.0        25.0   out to Centerfield   \n1970                 3  ...         58.0        25.0    out to Rightfield   \n\n         sky total_runs  game_hours_dec          season home_team_win  \\\n1620  Cloudy         16        3.633333  regular season             1   \n1970  Cloudy         19        3.666667  regular season             1   \n\n     home_team_loss  home_team_outcome  \n1620              0                Win  \n1970              0                Win  \n\n[2 rows x 25 columns]",
      "text/html": "<div>\n<style scoped>\n    .dataframe tbody tr th:only-of-type {\n        vertical-align: middle;\n    }\n\n    .dataframe tbody tr th {\n        vertical-align: top;\n    }\n\n    .dataframe thead th {\n        text-align: right;\n    }\n</style>\n<table border=\"1\" class=\"dataframe\">\n  <thead>\n    <tr style=\"text-align: right;\">\n      <th></th>\n      <th>attendance</th>\n      <th>away_team</th>\n      <th>away_team_errors</th>\n      <th>away_team_hits</th>\n      <th>away_team_runs</th>\n      <th>date</th>\n      <th>field_type</th>\n      <th>game_type</th>\n      <th>home_team</th>\n      <th>home_team_errors</th>\n      <th>...</th>\n      <th>temperature</th>\n      <th>wind_speed</th>\n      <th>wind_direction</th>\n      <th>sky</th>\n      <th>total_runs</th>\n      <th>game_hours_dec</th>\n      <th>season</th>\n      <th>home_team_win</th>\n      <th>home_team_loss</th>\n      <th>home_team_outcome</th>\n    </tr>\n  </thead>\n  <tbody>\n    <tr>\n      <th>1620</th>\n      <td>41543.0</td>\n      <td>Milwaukee Brewers</td>\n      <td>1</td>\n      <td>11</td>\n      <td>5</td>\n      <td>2016-06-13</td>\n      <td>on grass</td>\n      <td>Night Game</td>\n      <td>San Francisco Giants</td>\n      <td>0</td>\n      <td>...</td>\n      <td>58.0</td>\n      <td>25.0</td>\n      <td>out to Centerfield</td>\n      <td>Cloudy</td>\n      <td>16</td>\n      <td>3.633333</td>\n      <td>regular season</td>\n      <td>1</td>\n      <td>0</td>\n      <td>Win</td>\n    </tr>\n    <tr>\n      <th>1970</th>\n      <td>35736.0</td>\n      <td>Houston Astros</td>\n      <td>2</td>\n      <td>8</td>\n      <td>9</td>\n      <td>2016-05-15</td>\n      <td>on grass</td>\n      <td>Day Game</td>\n      <td>Boston Red Sox</td>\n      <td>3</td>\n      <td>...</td>\n      <td>58.0</td>\n      <td>25.0</td>\n      <td>out to Rightfield</td>\n      <td>Cloudy</td>\n      <td>19</td>\n      <td>3.666667</td>\n      <td>regular season</td>\n      <td>1</td>\n      <td>0</td>\n      <td>Win</td>\n    </tr>\n  </tbody>\n</table>\n<p>2 rows × 25 columns</p>\n</div>"
     },
     "execution_count": 17,
     "metadata": {},
     "output_type": "execute_result"
    }
   ],
   "source": [
    "max_wind_mask = (rs_data.wind_speed == rs_data.wind_speed.max())\n",
    "rs_data.loc[max_wind_mask]"
   ],
   "metadata": {
    "collapsed": false,
    "pycharm": {
     "name": "#%%\n"
    }
   }
  },
  {
   "cell_type": "markdown",
   "source": [
    "# 10. В какой игре получили максимальное количество очков?"
   ],
   "metadata": {
    "collapsed": false,
    "pycharm": {
     "name": "#%% md\n"
    }
   }
  },
  {
   "cell_type": "code",
   "execution_count": 18,
   "outputs": [
    {
     "data": {
      "text/plain": "      attendance         away_team  away_team_errors  away_team_hits  \\\n1753     22588.0  Seattle Mariners                 1              16   \n\n      away_team_runs        date field_type   game_type         home_team  \\\n1753              16  2016-06-02   on grass  Night Game  San Diego Padres   \n\n      home_team_errors  ...  temperature  wind_speed      wind_direction  \\\n1753                 1  ...         76.0        10.0   out to Rightfield   \n\n        sky total_runs  game_hours_dec          season home_team_win  \\\n1753  Sunny         29        3.833333  regular season             0   \n\n     home_team_loss  home_team_outcome  \n1753              1               Loss  \n\n[1 rows x 25 columns]",
      "text/html": "<div>\n<style scoped>\n    .dataframe tbody tr th:only-of-type {\n        vertical-align: middle;\n    }\n\n    .dataframe tbody tr th {\n        vertical-align: top;\n    }\n\n    .dataframe thead th {\n        text-align: right;\n    }\n</style>\n<table border=\"1\" class=\"dataframe\">\n  <thead>\n    <tr style=\"text-align: right;\">\n      <th></th>\n      <th>attendance</th>\n      <th>away_team</th>\n      <th>away_team_errors</th>\n      <th>away_team_hits</th>\n      <th>away_team_runs</th>\n      <th>date</th>\n      <th>field_type</th>\n      <th>game_type</th>\n      <th>home_team</th>\n      <th>home_team_errors</th>\n      <th>...</th>\n      <th>temperature</th>\n      <th>wind_speed</th>\n      <th>wind_direction</th>\n      <th>sky</th>\n      <th>total_runs</th>\n      <th>game_hours_dec</th>\n      <th>season</th>\n      <th>home_team_win</th>\n      <th>home_team_loss</th>\n      <th>home_team_outcome</th>\n    </tr>\n  </thead>\n  <tbody>\n    <tr>\n      <th>1753</th>\n      <td>22588.0</td>\n      <td>Seattle Mariners</td>\n      <td>1</td>\n      <td>16</td>\n      <td>16</td>\n      <td>2016-06-02</td>\n      <td>on grass</td>\n      <td>Night Game</td>\n      <td>San Diego Padres</td>\n      <td>1</td>\n      <td>...</td>\n      <td>76.0</td>\n      <td>10.0</td>\n      <td>out to Rightfield</td>\n      <td>Sunny</td>\n      <td>29</td>\n      <td>3.833333</td>\n      <td>regular season</td>\n      <td>0</td>\n      <td>1</td>\n      <td>Loss</td>\n    </tr>\n  </tbody>\n</table>\n<p>1 rows × 25 columns</p>\n</div>"
     },
     "execution_count": 18,
     "metadata": {},
     "output_type": "execute_result"
    }
   ],
   "source": [
    "max_total_runs_mask = (rs_data.total_runs == rs_data.total_runs.max())\n",
    "rs_data.loc[max_total_runs_mask]"
   ],
   "metadata": {
    "collapsed": false,
    "pycharm": {
     "name": "#%%\n"
    }
   }
  },
  {
   "cell_type": "markdown",
   "source": [
    "# 11. Какая игра содержала максимальное количество ошибок домашней команды?"
   ],
   "metadata": {
    "collapsed": false,
    "pycharm": {
     "name": "#%% md\n"
    }
   }
  },
  {
   "cell_type": "code",
   "execution_count": 19,
   "outputs": [
    {
     "data": {
      "text/plain": "      attendance             away_team  away_team_errors  away_team_hits  \\\n1143     22581.0  Arizona Diamondbacks                 1              11   \n\n      away_team_runs        date field_type   game_type          home_team  \\\n1143               8  2016-07-27   on grass  Night Game  Milwaukee Brewers   \n\n      home_team_errors  ...  temperature  wind_speed      wind_direction  \\\n1143                 5  ...         77.0         9.0   in from Leftfield   \n\n         sky total_runs  game_hours_dec          season home_team_win  \\\n1143  Cloudy          9        2.933333  regular season             0   \n\n     home_team_loss  home_team_outcome  \n1143              1               Loss  \n\n[1 rows x 25 columns]",
      "text/html": "<div>\n<style scoped>\n    .dataframe tbody tr th:only-of-type {\n        vertical-align: middle;\n    }\n\n    .dataframe tbody tr th {\n        vertical-align: top;\n    }\n\n    .dataframe thead th {\n        text-align: right;\n    }\n</style>\n<table border=\"1\" class=\"dataframe\">\n  <thead>\n    <tr style=\"text-align: right;\">\n      <th></th>\n      <th>attendance</th>\n      <th>away_team</th>\n      <th>away_team_errors</th>\n      <th>away_team_hits</th>\n      <th>away_team_runs</th>\n      <th>date</th>\n      <th>field_type</th>\n      <th>game_type</th>\n      <th>home_team</th>\n      <th>home_team_errors</th>\n      <th>...</th>\n      <th>temperature</th>\n      <th>wind_speed</th>\n      <th>wind_direction</th>\n      <th>sky</th>\n      <th>total_runs</th>\n      <th>game_hours_dec</th>\n      <th>season</th>\n      <th>home_team_win</th>\n      <th>home_team_loss</th>\n      <th>home_team_outcome</th>\n    </tr>\n  </thead>\n  <tbody>\n    <tr>\n      <th>1143</th>\n      <td>22581.0</td>\n      <td>Arizona Diamondbacks</td>\n      <td>1</td>\n      <td>11</td>\n      <td>8</td>\n      <td>2016-07-27</td>\n      <td>on grass</td>\n      <td>Night Game</td>\n      <td>Milwaukee Brewers</td>\n      <td>5</td>\n      <td>...</td>\n      <td>77.0</td>\n      <td>9.0</td>\n      <td>in from Leftfield</td>\n      <td>Cloudy</td>\n      <td>9</td>\n      <td>2.933333</td>\n      <td>regular season</td>\n      <td>0</td>\n      <td>1</td>\n      <td>Loss</td>\n    </tr>\n  </tbody>\n</table>\n<p>1 rows × 25 columns</p>\n</div>"
     },
     "execution_count": 19,
     "metadata": {},
     "output_type": "execute_result"
    }
   ],
   "source": [
    "max_home_team_errors_mask = (rs_data.home_team_errors == rs_data.home_team_errors.max())\n",
    "rs_data.loc[max_home_team_errors_mask]\n"
   ],
   "metadata": {
    "collapsed": false,
    "pycharm": {
     "name": "#%%\n"
    }
   }
  },
  {
   "cell_type": "markdown",
   "source": [
    "# 12. В какой игре было максимальное количество хитов?"
   ],
   "metadata": {
    "collapsed": false,
    "pycharm": {
     "name": "#%% md\n"
    }
   }
  },
  {
   "cell_type": "code",
   "execution_count": 20,
   "outputs": [
    {
     "name": "stderr",
     "output_type": "stream",
     "text": [
      "C:\\Users\\busta\\AppData\\Local\\Temp\\ipykernel_20652\\1461714381.py:1: SettingWithCopyWarning: \n",
      "A value is trying to be set on a copy of a slice from a DataFrame.\n",
      "Try using .loc[row_indexer,col_indexer] = value instead\n",
      "\n",
      "See the caveats in the documentation: https://pandas.pydata.org/pandas-docs/stable/user_guide/indexing.html#returning-a-view-versus-a-copy\n",
      "  rs_data['total_hits'] = rs_data['away_team_hits']+rs_data['home_team_hits']\n"
     ]
    },
    {
     "data": {
      "text/plain": "      attendance      away_team  away_team_errors  away_team_hits  \\\n1378     36253.0  Texas Rangers                 0              16   \n\n      away_team_runs        date field_type game_type       home_team  \\\n1378               5  2016-07-04   on grass  Day Game  Boston Red Sox   \n\n      home_team_errors  ...  wind_speed       wind_direction     sky  \\\n1378                 2  ...        11.0   out to Centerfield  Cloudy   \n\n     total_runs game_hours_dec          season  home_team_win home_team_loss  \\\n1378         17       3.666667  regular season              1              0   \n\n     home_team_outcome  total_hits  \n1378               Win          37  \n\n[1 rows x 26 columns]",
      "text/html": "<div>\n<style scoped>\n    .dataframe tbody tr th:only-of-type {\n        vertical-align: middle;\n    }\n\n    .dataframe tbody tr th {\n        vertical-align: top;\n    }\n\n    .dataframe thead th {\n        text-align: right;\n    }\n</style>\n<table border=\"1\" class=\"dataframe\">\n  <thead>\n    <tr style=\"text-align: right;\">\n      <th></th>\n      <th>attendance</th>\n      <th>away_team</th>\n      <th>away_team_errors</th>\n      <th>away_team_hits</th>\n      <th>away_team_runs</th>\n      <th>date</th>\n      <th>field_type</th>\n      <th>game_type</th>\n      <th>home_team</th>\n      <th>home_team_errors</th>\n      <th>...</th>\n      <th>wind_speed</th>\n      <th>wind_direction</th>\n      <th>sky</th>\n      <th>total_runs</th>\n      <th>game_hours_dec</th>\n      <th>season</th>\n      <th>home_team_win</th>\n      <th>home_team_loss</th>\n      <th>home_team_outcome</th>\n      <th>total_hits</th>\n    </tr>\n  </thead>\n  <tbody>\n    <tr>\n      <th>1378</th>\n      <td>36253.0</td>\n      <td>Texas Rangers</td>\n      <td>0</td>\n      <td>16</td>\n      <td>5</td>\n      <td>2016-07-04</td>\n      <td>on grass</td>\n      <td>Day Game</td>\n      <td>Boston Red Sox</td>\n      <td>2</td>\n      <td>...</td>\n      <td>11.0</td>\n      <td>out to Centerfield</td>\n      <td>Cloudy</td>\n      <td>17</td>\n      <td>3.666667</td>\n      <td>regular season</td>\n      <td>1</td>\n      <td>0</td>\n      <td>Win</td>\n      <td>37</td>\n    </tr>\n  </tbody>\n</table>\n<p>1 rows × 26 columns</p>\n</div>"
     },
     "execution_count": 20,
     "metadata": {},
     "output_type": "execute_result"
    }
   ],
   "source": [
    "rs_data['total_hits'] = rs_data['away_team_hits']+rs_data['home_team_hits']\n",
    "max_heets_mask = (rs_data.total_hits == rs_data.total_hits.max())\n",
    "rs_data.loc[max_heets_mask]\n"
   ],
   "metadata": {
    "collapsed": false,
    "pycharm": {
     "name": "#%%\n"
    }
   }
  },
  {
   "cell_type": "markdown",
   "source": [
    "# 13. Выведите количество игр которая сыграла каждая команда в данном сезоне?"
   ],
   "metadata": {
    "collapsed": false,
    "pycharm": {
     "name": "#%% md\n"
    }
   }
  },
  {
   "cell_type": "code",
   "execution_count": 21,
   "outputs": [
    {
     "data": {
      "text/plain": "Arizona Diamondbacks             162\nAtlanta Braves                   161\nBaltimore Orioles                162\nBoston Red Sox                   162\nChicago Cubs                     162\nChicago White Sox                162\nCincinnati Reds                  162\nCleveland Indians                161\nColorado Rockies                 162\nDetroit Tigers                   161\nHouston Astros                   162\nKansas City Royals               162\nLos Angeles Angels of Anaheim    162\nLos Angeles Dodgers              162\nMiami Marlins                    161\nMilwaukee Brewers                162\nMinnesota Twins                  162\nNew York Mets                    162\nNew York Yankees                 162\nOakland Athletics                162\nPhiladelphia Phillies            162\nPittsburgh Pirates               162\nSan Diego Padres                 162\nSan Francisco Giants             162\nSeattle Mariners                 162\nSt. Louis Cardinals              162\nTampa Bay Rays                   162\nTexas Rangers                    162\nToronto Blue Jays                162\nWashington Nationals             162\ndtype: int64"
     },
     "execution_count": 21,
     "metadata": {},
     "output_type": "execute_result"
    }
   ],
   "source": [
    "(pd.value_counts(rs_data.home_team) + pd.value_counts(rs_data.away_team))\n"
   ],
   "metadata": {
    "collapsed": false,
    "pycharm": {
     "name": "#%%\n"
    }
   }
  },
  {
   "cell_type": "markdown",
   "source": [
    "# 14. Какая команда выиграла наибольшее количество матчей в сезоне? (Будьте внимательны с типом матча в сезоне - season)."
   ],
   "metadata": {
    "collapsed": false,
    "pycharm": {
     "name": "#%% md\n"
    }
   }
  },
  {
   "cell_type": "code",
   "execution_count": 22,
   "outputs": [
    {
     "data": {
      "text/plain": "team\nSt. Louis Cardinals    96\nName: win, dtype: int64"
     },
     "execution_count": 22,
     "metadata": {},
     "output_type": "execute_result"
    }
   ],
   "source": [
    "#создаем новый фрейм. разворачиваем данные по командам в один столбец\n",
    "#teams_data = pd.DataFrame(columns = ('team','win','loss','attendance') )\n",
    "teams_data_p1 = rs_data[['home_team','home_team_win', 'home_team_loss', 'attendance']]\n",
    "teams_data_p2 = rs_data[['away_team', 'home_team_loss', 'home_team_win', 'attendance']]\n",
    "teams_data_p1.columns = ['team','win','loss','attendance']\n",
    "teams_data_p2.columns = ['team','win','loss','attendance']\n",
    "teams_data = pd.concat([teams_data_p2,teams_data_p2], axis=0)\n",
    "teams_group_data = teams_data.groupby('team').sum()\n",
    "max_team_wins_mask = (teams_group_data.win == teams_group_data.win.max())\n",
    "teams_group_data.loc[max_team_wins_mask,'win']"
   ],
   "metadata": {
    "collapsed": false,
    "pycharm": {
     "name": "#%%\n"
    }
   }
  },
  {
   "cell_type": "markdown",
   "source": [
    "# 15. Какая команда выиграла наибольшее количество домашних матчей в сезоне?"
   ],
   "metadata": {
    "collapsed": false,
    "pycharm": {
     "name": "#%% md\n"
    }
   }
  },
  {
   "cell_type": "code",
   "execution_count": 23,
   "outputs": [
    {
     "data": {
      "text/plain": "home_team\nChicago Cubs    57\nName: home_team_win, dtype: int64"
     },
     "execution_count": 23,
     "metadata": {},
     "output_type": "execute_result"
    }
   ],
   "source": [
    "home_wins_group_data = rs_data.groupby('home_team').sum()\n",
    "max_home_wins_mask = (home_wins_group_data.home_team_win == home_wins_group_data.home_team_win.max())\n",
    "home_wins_group_data.loc[max_home_wins_mask, 'home_team_win']\n"
   ],
   "metadata": {
    "collapsed": false,
    "pycharm": {
     "name": "#%%\n"
    }
   }
  },
  {
   "cell_type": "markdown",
   "source": [
    "# 16. Какая команда выиграла наибольшее количество гостевых матчей в сезоне?"
   ],
   "metadata": {
    "collapsed": false,
    "pycharm": {
     "name": "#%% md\n"
    }
   }
  },
  {
   "cell_type": "code",
   "execution_count": 24,
   "outputs": [
    {
     "data": {
      "text/plain": "away_team\nSt. Louis Cardinals    48\nName: home_team_loss, dtype: int64"
     },
     "execution_count": 24,
     "metadata": {},
     "output_type": "execute_result"
    }
   ],
   "source": [
    "away_wins_group_data = rs_data.groupby('away_team').sum()\n",
    "max_away_wins_mask = (away_wins_group_data.home_team_loss == away_wins_group_data.home_team_loss.max())\n",
    "away_wins_group_data.loc[max_away_wins_mask,'home_team_loss']"
   ],
   "metadata": {
    "collapsed": false,
    "pycharm": {
     "name": "#%%\n"
    }
   }
  },
  {
   "cell_type": "markdown",
   "source": [
    "# 17. Какая команда проиграла наибольшее количество матчей в сезоне?"
   ],
   "metadata": {
    "collapsed": false,
    "pycharm": {
     "name": "#%% md\n"
    }
   }
  },
  {
   "cell_type": "code",
   "execution_count": 25,
   "outputs": [
    {
     "data": {
      "text/plain": "team\nSt. Louis Cardinals    66\nName: loss, dtype: int64"
     },
     "execution_count": 25,
     "metadata": {},
     "output_type": "execute_result"
    }
   ],
   "source": [
    "max_team_loss_mask = (teams_group_data.loss == teams_group_data.loss.max())\n",
    "teams_group_data.loc[max_team_wins_mask,'loss']"
   ],
   "metadata": {
    "collapsed": false,
    "pycharm": {
     "name": "#%%\n"
    }
   }
  },
  {
   "cell_type": "markdown",
   "source": [
    "# 18. Зависит ли выигрыш от количества посетителей матча? (https://pandas.pydata.org/docs/reference/api/pandas.DataFrame.cov.html)"
   ],
   "metadata": {
    "collapsed": false,
    "pycharm": {
     "name": "#%% md\n"
    }
   }
  },
  {
   "cell_type": "code",
   "execution_count": 332,
   "outputs": [
    {
     "data": {
      "text/plain": "            attendance       win\nattendance    1.000000  0.000429\nwin           0.000429  1.000000",
      "text/html": "<div>\n<style scoped>\n    .dataframe tbody tr th:only-of-type {\n        vertical-align: middle;\n    }\n\n    .dataframe tbody tr th {\n        vertical-align: top;\n    }\n\n    .dataframe thead th {\n        text-align: right;\n    }\n</style>\n<table border=\"1\" class=\"dataframe\">\n  <thead>\n    <tr style=\"text-align: right;\">\n      <th></th>\n      <th>attendance</th>\n      <th>win</th>\n    </tr>\n  </thead>\n  <tbody>\n    <tr>\n      <th>attendance</th>\n      <td>1.000000</td>\n      <td>0.000429</td>\n    </tr>\n    <tr>\n      <th>win</th>\n      <td>0.000429</td>\n      <td>1.000000</td>\n    </tr>\n  </tbody>\n</table>\n</div>"
     },
     "execution_count": 332,
     "metadata": {},
     "output_type": "execute_result"
    }
   ],
   "source": [
    "#teams_data.corrwith(teams_data.loc[:,'win'])\n",
    "data_for_cov = teams_data[['attendance', 'win']]\n",
    "data_for_cov.corr()\n",
    "#т.к. корреляция между рядами очень маленькая, можно сделать вывод, что выигрыш не завист от количества посетителей матча"
   ],
   "metadata": {
    "collapsed": false,
    "pycharm": {
     "name": "#%%\n"
    }
   }
  },
  {
   "cell_type": "markdown",
   "source": [
    "# 19. Правда ли что большинство проигрышных домашних матчей приходятся на Субботу и Воскресенье?"
   ],
   "metadata": {
    "collapsed": false,
    "pycharm": {
     "name": "#%% md\n"
    }
   }
  },
  {
   "cell_type": "code",
   "execution_count": 26,
   "outputs": [
    {
     "data": {
      "text/plain": "day_of_week\nTuesday      0.501355\nThursday     0.495902\nSunday       0.487113\nMonday       0.467153\nFriday       0.466495\nSaturday     0.445013\nWednesday    0.433155\nName: home_team_loss, dtype: float64"
     },
     "execution_count": 26,
     "metadata": {},
     "output_type": "execute_result"
    }
   ],
   "source": [
    "week_days_group_data = rs_data.groupby('day_of_week').mean()\n",
    "week_days_group_data.home_team_loss.sort_values(ascending = False)\n",
    "\n",
    "# В среднем в наибольшее число проигрышей приходится на вторник и четверг, поэтому можно сделать вывод, что утверждение неверное."
   ],
   "metadata": {
    "collapsed": false,
    "pycharm": {
     "name": "#%%\n"
    }
   }
  },
  {
   "cell_type": "markdown",
   "source": [
    "# 20. Правда ли что наибольшее количество ранов происходит в холодную погоду? (Холодной погодой считается погода ниже 0 градусов)"
   ],
   "metadata": {
    "collapsed": false,
    "pycharm": {
     "name": "#%% md\n"
    }
   }
  },
  {
   "cell_type": "code",
   "execution_count": 27,
   "outputs": [
    {
     "name": "stderr",
     "output_type": "stream",
     "text": [
      "C:\\Users\\busta\\AppData\\Local\\Temp\\ipykernel_20652\\1670539414.py:12: SettingWithCopyWarning: \n",
      "A value is trying to be set on a copy of a slice from a DataFrame.\n",
      "Try using .loc[row_indexer,col_indexer] = value instead\n",
      "\n",
      "See the caveats in the documentation: https://pandas.pydata.org/pandas-docs/stable/user_guide/indexing.html#returning-a-view-versus-a-copy\n",
      "  rs_data.loc[:,['weather']] = rs_data.apply( weather, axis = 1 )\n"
     ]
    },
    {
     "data": {
      "text/plain": "weather\ncold    12.000000\nhot      9.361237\nwarm     8.617470\nName: total_runs, dtype: float64"
     },
     "execution_count": 27,
     "metadata": {},
     "output_type": "execute_result"
    }
   ],
   "source": [
    "def weather(row):\n",
    "    \"\"\"\n",
    "   Функция отнесения температуры матча к значению погоды: холодно, тепло, жарко\n",
    "    \"\"\"\n",
    "    if row['temperature'] < 32:\n",
    "        return 'cold'\n",
    "    elif 32 <= row['temperature'] <=  75:\n",
    "        return 'warm'\n",
    "    else:\n",
    "        return 'hot'\n",
    "\n",
    "rs_data.loc[:,['weather']] = rs_data.apply( weather, axis = 1 )\n",
    "\n",
    "weather_group_data = rs_data.groupby('weather').mean()\n",
    "\n",
    "weather_group_data.total_runs\n",
    "\n",
    "# Среднее число ранов в холодную погоду наибольшее, можно сделать вывод, что предположение верное."
   ],
   "metadata": {
    "collapsed": false,
    "pycharm": {
     "name": "#%%\n"
    }
   }
  }
 ],
 "metadata": {
  "kernelspec": {
   "display_name": "Python 3",
   "language": "python",
   "name": "python3"
  },
  "language_info": {
   "codemirror_mode": {
    "name": "ipython",
    "version": 2
   },
   "file_extension": ".py",
   "mimetype": "text/x-python",
   "name": "python",
   "nbconvert_exporter": "python",
   "pygments_lexer": "ipython2",
   "version": "2.7.6"
  }
 },
 "nbformat": 4,
 "nbformat_minor": 0
}